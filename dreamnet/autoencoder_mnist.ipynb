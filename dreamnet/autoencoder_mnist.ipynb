{
 "cells": [
  {
   "cell_type": "markdown",
   "metadata": {},
   "source": [
    "# Convolution Autoencoder Using MNIST Dataset"
   ]
  },
  {
   "cell_type": "code",
   "execution_count": null,
   "metadata": {},
   "outputs": [],
   "source": [
    "import tensorflow as tf\n",
    "print(tf.__version__)"
   ]
  },
  {
   "cell_type": "code",
   "execution_count": null,
   "metadata": {},
   "outputs": [],
   "source": [
    "import numpy as np\n",
    "\n",
    "mnist = tf.keras.datasets.mnist\n",
    "(x_train, y_train), (x_test, y_test) = mnist.load_data()\n",
    "# x_train, x_test = x_train / np.max(x_train), x_test / np.max(x_test) # This should be handled by the ImageDataGenerator\n",
    "print(x_train.shape)"
   ]
  },
  {
   "cell_type": "markdown",
   "metadata": {},
   "source": [
    "## Define the model"
   ]
  },
  {
   "cell_type": "code",
   "execution_count": null,
   "metadata": {},
   "outputs": [],
   "source": [
    "# https://www.programcreek.com/python/example/89691/keras.layers.UpSampling2D\n",
    "\n",
    "#shape = (height, width, channel)\n",
    "shape = (28, 28, 1)\n",
    "\n",
    "model = tf.keras.models.Sequential([\n",
    "    # encoder part of the model\n",
    "    tf.keras.layers.Input(shape=shape),\n",
    "    tf.keras.layers.Conv2D(64, (3,3), activation=tf.nn.relu, padding='same'),\n",
    "    tf.keras.layers.MaxPool2D((2,2), padding='same'),\n",
    "    tf.keras.layers.Conv2D(32, (3,3), activation=tf.nn.relu, padding='same'),\n",
    "    tf.keras.layers.MaxPool2D((2,2), padding='same'),\n",
    "    tf.keras.layers.Conv2D(16, (3,3), activation=tf.nn.relu, padding='same'),\n",
    "    tf.keras.layers.MaxPool2D((2,2), padding='same'),\n",
    "    tf.keras.layers.Conv2D(16, (3,3), activation=tf.nn.relu, padding='same'),\n",
    "    tf.keras.layers.MaxPool2D((2,2), padding='same', name=\"enc\"),\n",
    "\n",
    "    \n",
    "    # decoder part of the model\n",
    "    tf.keras.layers.Conv2D(32, (3,3), activation=tf.nn.relu, padding='same'),\n",
    "    tf.keras.layers.UpSampling2D((2,2)),\n",
    "    tf.keras.layers.Conv2D(32, (3,3), activation=tf.nn.relu, padding='same'),\n",
    "    tf.keras.layers.UpSampling2D((2,2)),\n",
    "    tf.keras.layers.Conv2D(32, (3,3), activation=tf.nn.relu, padding='same'),\n",
    "    tf.keras.layers.UpSampling2D((2,2)),\n",
    "    tf.keras.layers.Conv2D(64, (3,3), activation=tf.nn.relu),\n",
    "    tf.keras.layers.UpSampling2D((2,2)),\n",
    "    tf.keras.layers.Conv2D(shape[2], (3,3), activation=tf.nn.sigmoid, padding='same', name='dec')\n",
    "])\n",
    "\n",
    "model.compile(optimizer=\"adam\", loss=\"binary_crossentropy\", metrics=['acc'])\n",
    "model.summary()"
   ]
  },
  {
   "cell_type": "code",
   "execution_count": null,
   "metadata": {},
   "outputs": [],
   "source": [
    "# x_train = tf.keras.preproccessing.image.ImageDataGenerator(rescale=1/255)\n",
    "# y_train = tf.keras.preproccessing.image.ImageDataGenerator(rescale=1/255)\n",
    "\n",
    "# normalize intput data\n",
    "x_train = x_train/np.max(x_train)\n",
    "print(x_train.shape)\n",
    "x_train = x_train.reshape(x_train.shape[0],28,28,1)\n",
    "\n",
    "model.fit(x_train,x_train,epochs=20)"
   ]
  },
  {
   "cell_type": "code",
   "execution_count": null,
   "metadata": {
    "scrolled": true
   },
   "outputs": [],
   "source": [
    "x_test = x_test/np.max(x_test)\n",
    "x_test = x_test.reshape(x_test.shape[0],28,28,1)\n",
    "model.evaluate(x_test,x_test)"
   ]
  },
  {
   "cell_type": "code",
   "execution_count": null,
   "metadata": {},
   "outputs": [],
   "source": [
    "import matplotlib.pyplot as plt\n",
    "\n",
    "cols, rows = 10, 10\n",
    "fig=plt.figure(figsize=(20, 20))\n",
    "for i in range(1, cols*rows +1):\n",
    "    img = np.squeeze(x_test[i])\n",
    "    fig.add_subplot(rows, cols, i)\n",
    "    plt.imshow(img)\n",
    "\n",
    "plt.show()\n",
    "\n",
    "fig=plt.figure(figsize=(20, 20))\n",
    "for i in range(1, cols*rows +1):\n",
    "    img = np.squeeze(model.predict(np.expand_dims(x_test[i], axis=0)))\n",
    "    fig.add_subplot(rows, cols, i)\n",
    "    plt.imshow(img)\n",
    "\n",
    "plt.show()"
   ]
  }
 ],
 "metadata": {
  "kernelspec": {
   "display_name": "deeplearning",
   "language": "python",
   "name": "deeplearning"
  },
  "language_info": {
   "codemirror_mode": {
    "name": "ipython",
    "version": 3
   },
   "file_extension": ".py",
   "mimetype": "text/x-python",
   "name": "python",
   "nbconvert_exporter": "python",
   "pygments_lexer": "ipython3",
   "version": "3.7.6"
  }
 },
 "nbformat": 4,
 "nbformat_minor": 4
}
