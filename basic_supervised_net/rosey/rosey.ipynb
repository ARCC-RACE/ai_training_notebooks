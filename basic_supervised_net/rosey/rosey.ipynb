{
 "cells": [
  {
   "cell_type": "markdown",
   "metadata": {},
   "source": [
    "# Rosey Training Notebook \n",
    "\n",
    "Basic supervised neural network"
   ]
  },
  {
   "cell_type": "code",
   "execution_count": null,
   "metadata": {},
   "outputs": [],
   "source": [
    "import sys\n",
    "# print(sys.path)\n",
    "sys.path.append('/home/michael/Github/ai_training_notebooks/standard_utils')\n",
    "from general_ai_training_utils import BaseSupervisedTrainer\n",
    "import rosey"
   ]
  },
  {
   "cell_type": "markdown",
   "metadata": {},
   "source": [
    "### Instantiate a base supervised learner with the Rosey model "
   ]
  },
  {
   "cell_type": "code",
   "execution_count": null,
   "metadata": {},
   "outputs": [],
   "source": [
    "model = rosey.Rosey(\"utils\")\n",
    "model_trainer = BaseSupervisedTrainer(export_directory=\"/home/michael/Desktop\", model=model, utils_file=\"utils\", data_directory=\"/media/michael/BigMemory/datasets/jetsoncar/backup1-12-20/data\")"
   ]
  },
  {
   "cell_type": "code",
   "execution_count": null,
   "metadata": {},
   "outputs": [],
   "source": [
    "model_trainer.set_dataset()"
   ]
  },
  {
   "cell_type": "code",
   "execution_count": null,
   "metadata": {},
   "outputs": [],
   "source": [
    "model_trainer.load_dataset(dynamic=True, percent_training=0.8, existing_npy_directory=None,  npy_save_directory=None, total_npy_size=100, num_stacked_images=1)\n",
    "print(\"data loaded\") # Remove this line to see returned values for training and steering (include test values if dynamic load)"
   ]
  },
  {
   "cell_type": "code",
   "execution_count": null,
   "metadata": {},
   "outputs": [],
   "source": [
    "from keras.optimizers import Adam\n",
    "model_trainer.build_model(loss='mean_squared_error', optimizer=Adam(1.0e-4), regularizer=0.01)"
   ]
  },
  {
   "cell_type": "code",
   "execution_count": null,
   "metadata": {},
   "outputs": [],
   "source": [
    "model_trainer.train_model(batch_size=40, validation_steps=1000, nb_epochs=10, steps_per_epoch=1500)"
   ]
  },
  {
   "cell_type": "markdown",
   "metadata": {},
   "source": [
    "## Update config.yaml and notes.txt to properly document and specify the opartion and development of the model\n",
    "\n",
    "### notes.txt\n",
    "Here you should put notes about model performance, test conditions, and todo list for improving the model. \n",
    "\n",
    "### config.yaml\n",
    "Specify the maximum update rate for the model when run on the jetson TX2"
   ]
  },
  {
   "cell_type": "code",
   "execution_count": null,
   "metadata": {},
   "outputs": [],
   "source": [
    "# preapare desired model file for export\n",
    "import os\n",
    "model_to_export = \"model.009-2.58.h5\"\n",
    "os.rename(model_to_export, 'model.h5')"
   ]
  },
  {
   "cell_type": "code",
   "execution_count": null,
   "metadata": {},
   "outputs": [],
   "source": [
    "# copy the relevant files and export model\n",
    "model_name = \"RoseyV2\"\n",
    "if model_trainer.export_model(\"/home/michael/Desktop/\" + model_name):\n",
    "    print(\"Model export successful!\")"
   ]
  }
 ],
 "metadata": {
  "kernelspec": {
   "display_name": "deeplearning",
   "language": "python",
   "name": "deeplearning"
  },
  "language_info": {
   "codemirror_mode": {
    "name": "ipython",
    "version": 3
   },
   "file_extension": ".py",
   "mimetype": "text/x-python",
   "name": "python",
   "nbconvert_exporter": "python",
   "pygments_lexer": "ipython3",
   "version": "3.7.6"
  }
 },
 "nbformat": 4,
 "nbformat_minor": 4
}
