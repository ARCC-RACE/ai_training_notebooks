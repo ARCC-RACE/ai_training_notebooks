{
 "cells": [
  {
   "cell_type": "markdown",
   "metadata": {},
   "source": [
    "# Rosey Training Notebook \n",
    "\n",
    "Basic supervised neural network"
   ]
  },
  {
   "cell_type": "code",
   "execution_count": 16,
   "metadata": {},
   "outputs": [],
   "source": [
    "import sys\n",
    "sys.path.append('/home/michael/Github/ai_training_notebooks/standard_utils')\n",
    "import general_ai_training_utils"
   ]
  },
  {
   "cell_type": "markdown",
   "metadata": {},
   "source": [
    "### Instantiate a base supervised learner with the Rosey model "
   ]
  },
  {
   "cell_type": "code",
   "execution_count": 18,
   "metadata": {},
   "outputs": [
    {
     "ename": "AttributeError",
     "evalue": "module 'general_ai_training_utils' has no attribute 'BaseSupervisedTrainer'",
     "output_type": "error",
     "traceback": [
      "\u001b[0;31m---------------------------------------------------------------------------\u001b[0m",
      "\u001b[0;31mAttributeError\u001b[0m                            Traceback (most recent call last)",
      "\u001b[0;32m<ipython-input-18-3bc5410cb5dd>\u001b[0m in \u001b[0;36m<module>\u001b[0;34m\u001b[0m\n\u001b[0;32m----> 1\u001b[0;31m \u001b[0mtrainer\u001b[0m \u001b[0;34m=\u001b[0m \u001b[0mgeneral_ai_training_utils\u001b[0m\u001b[0;34m.\u001b[0m\u001b[0mBaseSupervisedTrainer\u001b[0m\u001b[0;34m(\u001b[0m\u001b[0mexport_directory\u001b[0m\u001b[0;34m=\u001b[0m\u001b[0;34m\"/home/michael/Desktop\"\u001b[0m\u001b[0;34m,\u001b[0m \u001b[0mmodel_file\u001b[0m\u001b[0;34m=\u001b[0m\u001b[0;34m\"rosey.py\"\u001b[0m\u001b[0;34m,\u001b[0m \u001b[0mdata_directory\u001b[0m\u001b[0;34m=\u001b[0m\u001b[0;34m\"/media/michael/BigMemory/datasets/jetsoncar\"\u001b[0m\u001b[0;34m)\u001b[0m\u001b[0;34m\u001b[0m\u001b[0;34m\u001b[0m\u001b[0m\n\u001b[0m",
      "\u001b[0;31mAttributeError\u001b[0m: module 'general_ai_training_utils' has no attribute 'BaseSupervisedTrainer'"
     ]
    }
   ],
   "source": [
    "trainer = general_ai_training_utils.BaseSupervisedTrainer(export_directory=\"/home/michael/Desktop\", model_file=\"rosey.py\", data_directory=\"/media/michael/BigMemory/datasets/jetsoncar\")"
   ]
  }
 ],
 "metadata": {
  "kernelspec": {
   "display_name": "deeplearning",
   "language": "python",
   "name": "deeplearning"
  },
  "language_info": {
   "codemirror_mode": {
    "name": "ipython",
    "version": 3
   },
   "file_extension": ".py",
   "mimetype": "text/x-python",
   "name": "python",
   "nbconvert_exporter": "python",
   "pygments_lexer": "ipython3",
   "version": "3.7.6"
  }
 },
 "nbformat": 4,
 "nbformat_minor": 4
}
